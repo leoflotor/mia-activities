{
 "cells": [
  {
   "cell_type": "markdown",
   "id": "d282a434-daba-4b72-a397-198354bdd40f",
   "metadata": {
    "tags": []
   },
   "source": [
    "# Metodos Probabilisticos"
   ]
  },
  {
   "cell_type": "markdown",
   "id": "d879433a-9df8-43ad-b160-13cea55a781d",
   "metadata": {},
   "source": [
    "Metricas?\n",
    "\n",
    "https://iq.opengenus.org/naive-bayes-on-tf-idf-vectorized-matrix/"
   ]
  },
  {
   "cell_type": "markdown",
   "id": "af21df0a-4e92-409a-a08f-860d13558474",
   "metadata": {},
   "source": [
    "Las librerias necesarias son las siguientes:"
   ]
  },
  {
   "cell_type": "code",
   "execution_count": 1,
   "id": "310d9031-567c-492b-831b-bc700161c3b9",
   "metadata": {},
   "outputs": [],
   "source": [
    "# Librerias\n",
    "import pathlib\n",
    "import numpy as np\n",
    "import matplotlib.pyplot as plt\n",
    "\n",
    "from sklearn.feature_extraction.text import CountVectorizer\n",
    "from sklearn.model_selection import train_test_split\n",
    "from sklearn.naive_bayes import MultinomialNB\n",
    "from sklearn.metrics import accuracy_score\n",
    "from sklearn.metrics import confusion_matrix\n",
    "from sklearn.metrics import classification_report\n",
    "# from sklearn.feature_extraction.text import ENGLISH_STOP_WORDS as esw\n",
    "\n",
    "# import seaborn as sns\n",
    "# sns.set()"
   ]
  },
  {
   "cell_type": "markdown",
   "id": "dba241ec-7ea8-4738-8316-ce32608eed66",
   "metadata": {},
   "source": [
    "Primero se define el directorio en el que se encuentra la libreta para poder acceder a los archivos pertinentes, y se debe especificar el directorio donde se encuentran los libros:"
   ]
  },
  {
   "cell_type": "code",
   "execution_count": 2,
   "id": "28defe79-4d65-46ed-9f16-ff87a469c3b3",
   "metadata": {},
   "outputs": [],
   "source": [
    "working_dir = pathlib.Path().absolute()\n",
    "train_dir = working_dir / \"training-dataset/\"\n",
    "test_dir = working_dir / \"test-dataset/\""
   ]
  },
  {
   "cell_type": "markdown",
   "id": "d3ef711e-54a5-404a-a65e-bc831af0b437",
   "metadata": {},
   "source": [
    "Ahora hay que leer los libros, estos están guardados en la carpeta `training-dataset/` la cual a su vez contiene 3 carpetas que corresponden a 3 categorias de libros. Estas carpetas son `adventure-stories`, `historical-fiction` y `horror` donde cada carpeta tiene 5 libros."
   ]
  },
  {
   "cell_type": "code",
   "execution_count": 3,
   "id": "768f119a-4c3e-4908-9bd8-3802de7fce9b",
   "metadata": {},
   "outputs": [],
   "source": [
    "# categories = [\"adventure-stories\", \"historical-fiction\", \"horror\"]"
   ]
  },
  {
   "cell_type": "code",
   "execution_count": 4,
   "id": "0ed6f667-79d9-45e1-9fa4-aadb92c9c685",
   "metadata": {},
   "outputs": [],
   "source": [
    "def get_categories_paths(files_dir):\n",
    "    paths = []\n",
    "    for item in files_dir.iterdir():\n",
    "        if item.is_dir():\n",
    "            paths.append(item)\n",
    "    \n",
    "    return paths"
   ]
  },
  {
   "cell_type": "code",
   "execution_count": 5,
   "id": "93b18e39-1c08-45eb-a753-580c576d77e1",
   "metadata": {
    "tags": []
   },
   "outputs": [
    {
     "data": {
      "text/plain": [
       "[PosixPath('/home/leo/Documents/mia/mia-activities/mia-2022-half2/mp/mp-proyecto/training-dataset/chemistry'),\n",
       " PosixPath('/home/leo/Documents/mia/mia-activities/mia-2022-half2/mp/mp-proyecto/training-dataset/poetry'),\n",
       " PosixPath('/home/leo/Documents/mia/mia-activities/mia-2022-half2/mp/mp-proyecto/training-dataset/fiction'),\n",
       " PosixPath('/home/leo/Documents/mia/mia-activities/mia-2022-half2/mp/mp-proyecto/training-dataset/biology'),\n",
       " PosixPath('/home/leo/Documents/mia/mia-activities/mia-2022-half2/mp/mp-proyecto/training-dataset/horror'),\n",
       " PosixPath('/home/leo/Documents/mia/mia-activities/mia-2022-half2/mp/mp-proyecto/training-dataset/music'),\n",
       " PosixPath('/home/leo/Documents/mia/mia-activities/mia-2022-half2/mp/mp-proyecto/training-dataset/politics')]"
      ]
     },
     "execution_count": 5,
     "metadata": {},
     "output_type": "execute_result"
    }
   ],
   "source": [
    "categories_paths = get_categories_paths(train_dir)\n",
    "categories_paths"
   ]
  },
  {
   "cell_type": "markdown",
   "id": "5ab98a5e-c5ca-4dee-b195-f2c2add41e34",
   "metadata": {},
   "source": [
    "Aunque ya se tienen todas las categorias, las cuales son representadas por el nombre de sus directorios, es necesario hacer lo mismo para los libros dentro de cada categoria. Se define una funcion para poder hacer esto:"
   ]
  },
  {
   "cell_type": "code",
   "execution_count": 6,
   "id": "6e3f8bc9-45e1-4880-862b-4b6b7bcf1020",
   "metadata": {},
   "outputs": [],
   "source": [
    "def get_categories(files_dir):\n",
    "    categories_paths = get_categories_paths(files_dir)\n",
    "    categories = dict()\n",
    "    for path in categories_paths:\n",
    "        category = path.as_posix().split(\"/\")[-1]\n",
    "        categories[category] = path\n",
    "        \n",
    "    return categories"
   ]
  },
  {
   "cell_type": "code",
   "execution_count": 7,
   "id": "43bc8779-c5bc-44b7-bb9e-098a29128b28",
   "metadata": {},
   "outputs": [
    {
     "data": {
      "text/plain": [
       "{'chemistry': PosixPath('/home/leo/Documents/mia/mia-activities/mia-2022-half2/mp/mp-proyecto/training-dataset/chemistry'),\n",
       " 'poetry': PosixPath('/home/leo/Documents/mia/mia-activities/mia-2022-half2/mp/mp-proyecto/training-dataset/poetry'),\n",
       " 'fiction': PosixPath('/home/leo/Documents/mia/mia-activities/mia-2022-half2/mp/mp-proyecto/training-dataset/fiction'),\n",
       " 'biology': PosixPath('/home/leo/Documents/mia/mia-activities/mia-2022-half2/mp/mp-proyecto/training-dataset/biology'),\n",
       " 'horror': PosixPath('/home/leo/Documents/mia/mia-activities/mia-2022-half2/mp/mp-proyecto/training-dataset/horror'),\n",
       " 'music': PosixPath('/home/leo/Documents/mia/mia-activities/mia-2022-half2/mp/mp-proyecto/training-dataset/music'),\n",
       " 'politics': PosixPath('/home/leo/Documents/mia/mia-activities/mia-2022-half2/mp/mp-proyecto/training-dataset/politics')}"
      ]
     },
     "execution_count": 7,
     "metadata": {},
     "output_type": "execute_result"
    }
   ],
   "source": [
    "categories = get_categories(train_dir)\n",
    "categories"
   ]
  },
  {
   "cell_type": "code",
   "execution_count": 8,
   "id": "59920ea3-a5e3-478a-8c89-7bc79355f7f4",
   "metadata": {},
   "outputs": [
    {
     "data": {
      "text/plain": [
       "PosixPath('/home/leo/Documents/mia/mia-activities/mia-2022-half2/mp/mp-proyecto/training-dataset/horror')"
      ]
     },
     "execution_count": 8,
     "metadata": {},
     "output_type": "execute_result"
    }
   ],
   "source": [
    "categories[\"horror\"]"
   ]
  },
  {
   "cell_type": "markdown",
   "id": "f05cbb77-a1ab-495f-a02c-d45be47034aa",
   "metadata": {},
   "source": [
    "La siguiente función permite identificar todos los libros en una categoría:"
   ]
  },
  {
   "cell_type": "code",
   "execution_count": 9,
   "id": "462767a4-c5e6-4697-bfd4-ac0031430269",
   "metadata": {},
   "outputs": [],
   "source": [
    "def get_books_in_category(category_path):\n",
    "    books_in_category = []\n",
    "    for item in category_path.iterdir():\n",
    "        if item.is_file():\n",
    "            books_in_category.append(item)\n",
    "            \n",
    "    return books_in_category"
   ]
  },
  {
   "cell_type": "code",
   "execution_count": 10,
   "id": "de1bb19d-2722-4cee-90c5-d67473d53631",
   "metadata": {},
   "outputs": [
    {
     "data": {
      "text/plain": [
       "[PosixPath('/home/leo/Documents/mia/mia-activities/mia-2022-half2/mp/mp-proyecto/training-dataset/horror/metamorphosis.txt'),\n",
       " PosixPath('/home/leo/Documents/mia/mia-activities/mia-2022-half2/mp/mp-proyecto/training-dataset/horror/the-dunchich-horror.txt'),\n",
       " PosixPath('/home/leo/Documents/mia/mia-activities/mia-2022-half2/mp/mp-proyecto/training-dataset/horror/the-legend-of-sleepy-hollow.txt'),\n",
       " PosixPath('/home/leo/Documents/mia/mia-activities/mia-2022-half2/mp/mp-proyecto/training-dataset/horror/the-mysteries-of-udolpho.txt'),\n",
       " PosixPath('/home/leo/Documents/mia/mia-activities/mia-2022-half2/mp/mp-proyecto/training-dataset/horror/dracula.txt'),\n",
       " PosixPath('/home/leo/Documents/mia/mia-activities/mia-2022-half2/mp/mp-proyecto/training-dataset/horror/the-call-of-cthulhu.txt'),\n",
       " PosixPath('/home/leo/Documents/mia/mia-activities/mia-2022-half2/mp/mp-proyecto/training-dataset/horror/scotish-ghost-stories.txt')]"
      ]
     },
     "execution_count": 10,
     "metadata": {},
     "output_type": "execute_result"
    }
   ],
   "source": [
    "books_in_horror = get_books_in_category(categories[\"horror\"])\n",
    "books_in_horror"
   ]
  },
  {
   "cell_type": "markdown",
   "id": "2834c0f0-9c32-4e80-a92b-105de7e181f8",
   "metadata": {},
   "source": [
    "Tambien se debe implementar una función que lea un libro, y esta función se usará para leer todos los libros en la categoría indicada:"
   ]
  },
  {
   "cell_type": "code",
   "execution_count": 11,
   "id": "d165acaa-9a9a-4937-952a-69f7dd3d5691",
   "metadata": {},
   "outputs": [],
   "source": [
    "def get_text_of_book(book):\n",
    "    with open(book, \"r\", encoding=\"utf-8\") as file:\n",
    "        for string in file:\n",
    "            book_text = file.read().replace(\"\\n\", \"\")\n",
    "            \n",
    "    return book_text"
   ]
  },
  {
   "cell_type": "code",
   "execution_count": 12,
   "id": "e1291acc-194d-4255-bc41-60c522ba8e4c",
   "metadata": {},
   "outputs": [],
   "source": [
    "def get_all_texts_in_category(category):\n",
    "    books_in_category = get_books_in_category(category)\n",
    "    \n",
    "    return list(map(get_text_of_book, books_in_category))"
   ]
  },
  {
   "cell_type": "markdown",
   "id": "18103f40-3d8e-472b-a35f-70299acf77b0",
   "metadata": {},
   "source": [
    "La siguiente función toma los libros en cada directorio como categoría y genera el set de entrenamiento:"
   ]
  },
  {
   "cell_type": "code",
   "execution_count": 13,
   "id": "41f1ab62-38fc-4725-98e9-1c6c325350d5",
   "metadata": {},
   "outputs": [],
   "source": [
    "def get_training_data(files_dir):\n",
    "    categories = get_categories(files_dir)\n",
    "    corpus = []\n",
    "    labels = []\n",
    "    for key in categories.keys():\n",
    "        texts_in_category = get_all_texts_in_category(categories[key])\n",
    "        texts_labels = [key] * len(texts_in_category)\n",
    "        corpus += texts_in_category\n",
    "        labels += texts_labels\n",
    "        \n",
    "    return corpus, labels"
   ]
  },
  {
   "cell_type": "code",
   "execution_count": 14,
   "id": "c2a73a7b-9c54-4ca9-8d3a-89b5bbb223a1",
   "metadata": {},
   "outputs": [],
   "source": [
    "corpus_train, label_train = get_training_data(train_dir)"
   ]
  },
  {
   "cell_type": "markdown",
   "id": "3ab26289-35b6-4859-858b-47858842b40e",
   "metadata": {},
   "source": [
    "Lo siguiente es leer los libros dentro del directorio de `test-dataset/` ya que ahí se encuentran aquellos que se usarán para probar el modelo. Se puede usar la función `get_all_texts_in_category()` usando como argumento el `path` del directorio donde se encuentran los libros de prueba. Con los libros leídos se va a comparar el modelo, y ver cuantos y cuales son clasificados correctamente:Con los libros leídos se va a comparar el modelo, y ver cuantos y cuales son clasificados correctamente:"
   ]
  },
  {
   "cell_type": "code",
   "execution_count": 15,
   "id": "62b402a4-4db9-486f-a142-89dd107c6b0a",
   "metadata": {},
   "outputs": [],
   "source": [
    "corpus_test, label_test = get_training_data(test_dir)"
   ]
  },
  {
   "cell_type": "code",
   "execution_count": 16,
   "id": "15cdbfbb-e8d0-4b01-98c1-3a88f3a19025",
   "metadata": {},
   "outputs": [
    {
     "data": {
      "text/plain": [
       "['chemistry',\n",
       " 'chemistry',\n",
       " 'poetry',\n",
       " 'poetry',\n",
       " 'fiction',\n",
       " 'biology',\n",
       " 'biology',\n",
       " 'horror',\n",
       " 'horror',\n",
       " 'music',\n",
       " 'politics',\n",
       " 'politics']"
      ]
     },
     "execution_count": 16,
     "metadata": {},
     "output_type": "execute_result"
    }
   ],
   "source": [
    "label_test"
   ]
  },
  {
   "cell_type": "markdown",
   "id": "26088a65-540b-44a0-b78f-9bbefbc4d75d",
   "metadata": {},
   "source": [
    "Los libros del test pertenecen a las siguientes categorias:"
   ]
  },
  {
   "cell_type": "code",
   "execution_count": 17,
   "id": "f71f1444-be5e-4ac1-81b7-87fd2a1f1822",
   "metadata": {},
   "outputs": [
    {
     "name": "stderr",
     "output_type": "stream",
     "text": [
      "/home/leo/miniconda3/envs/mp-project/lib/python3.10/site-packages/sklearn/feature_extraction/text.py:528: UserWarning: The parameter 'token_pattern' will not be used since 'tokenizer' is not None'\n",
      "  warnings.warn(\n"
     ]
    }
   ],
   "source": [
    "# building term matrices\n",
    "vectorizer = CountVectorizer(tokenizer=str.split, stop_words=\"english\")\n",
    "corpus_train_mat = vectorizer.fit_transform(corpus_train)\n",
    "corpus_train_mat = corpus_train_mat.toarray()"
   ]
  },
  {
   "cell_type": "code",
   "execution_count": 18,
   "id": "0a9b9333-54e2-45e3-a19d-3f0fdd25cbca",
   "metadata": {},
   "outputs": [],
   "source": [
    "corpus_test_mat = vectorizer.transform(corpus_test)\n",
    "corpus_test_mat = corpus_test_mat.toarray()"
   ]
  },
  {
   "cell_type": "code",
   "execution_count": 19,
   "id": "21b070a1-f3e7-49ac-b881-75212e488cee",
   "metadata": {},
   "outputs": [],
   "source": [
    "# building Naive Bayes Classifier\n",
    "def naive_bayes(train_set, train_label):\n",
    "    model = MultinomialNB()\n",
    "    model.fit(train_set, train_label)\n",
    "    \n",
    "    return model"
   ]
  },
  {
   "cell_type": "code",
   "execution_count": 20,
   "id": "f85f2b7f-8655-498f-8303-34877568501c",
   "metadata": {},
   "outputs": [],
   "source": [
    "nb_model = naive_bayes(corpus_train_mat, label_train) # train the classifier"
   ]
  },
  {
   "cell_type": "code",
   "execution_count": 21,
   "id": "2a1d120d-90a9-466a-89a7-fd3aeec945b8",
   "metadata": {},
   "outputs": [
    {
     "data": {
      "text/plain": [
       "array(['chemistry', 'chemistry', 'poetry', 'poetry', 'fiction', 'biology',\n",
       "       'chemistry', 'horror', 'horror', 'music', 'politics', 'horror'],\n",
       "      dtype='<U9')"
      ]
     },
     "execution_count": 21,
     "metadata": {},
     "output_type": "execute_result"
    }
   ],
   "source": [
    "# predict a label of the documents in the test set using the trained classifier\n",
    "label_predicted = nb_model.predict(corpus_test_mat)\n",
    "label_predicted"
   ]
  },
  {
   "cell_type": "code",
   "execution_count": 55,
   "id": "7deeab23-521f-4e59-bfa0-d6935ec539c0",
   "metadata": {},
   "outputs": [],
   "source": [
    "def comparisson(test_label, predicted_label):\n",
    "    print(\"Real    \\t | Predicted\")\n",
    "    print(\"---------------------------\")\n",
    "    for pair in zip(test_label, predicted_label):\n",
    "        print(pair[0] + \"   \\t | \" + pair[1])"
   ]
  },
  {
   "cell_type": "code",
   "execution_count": 56,
   "id": "e24ba017-82ff-4feb-bd34-3f9adce31a1f",
   "metadata": {},
   "outputs": [
    {
     "name": "stdout",
     "output_type": "stream",
     "text": [
      "Real    \t | Predicted\n",
      "---------------------------\n",
      "chemistry   \t | chemistry\n",
      "chemistry   \t | chemistry\n",
      "poetry   \t | poetry\n",
      "poetry   \t | poetry\n",
      "fiction   \t | fiction\n",
      "biology   \t | biology\n",
      "biology   \t | chemistry\n",
      "horror   \t | horror\n",
      "horror   \t | horror\n",
      "music   \t | music\n",
      "politics   \t | politics\n",
      "politics   \t | horror\n"
     ]
    }
   ],
   "source": [
    "comparisson(label_test, label_predicted)"
   ]
  },
  {
   "cell_type": "markdown",
   "id": "c66fe40d-be0a-4341-bcaf-d76b9cebdae7",
   "metadata": {},
   "source": [
    "El porcentaje de libros bien clasificados, también referido como la precisión, es el siguiente:"
   ]
  },
  {
   "cell_type": "code",
   "execution_count": 23,
   "id": "0a4c53ba-ee91-4cb4-aa55-0938837174f7",
   "metadata": {},
   "outputs": [
    {
     "data": {
      "text/plain": [
       "0.8333333333333334"
      ]
     },
     "execution_count": 23,
     "metadata": {},
     "output_type": "execute_result"
    }
   ],
   "source": [
    "accuracy = accuracy_score(label_test, label_predicted)\n",
    "accuracy"
   ]
  },
  {
   "cell_type": "code",
   "execution_count": 57,
   "id": "f114ef14-1b02-46c0-a981-82e5f3594f99",
   "metadata": {},
   "outputs": [],
   "source": [
    "# visualize a heat map of confusion matrix to evaluate the quality of the output of the classifier \n",
    "def get_confusion_matrix(train_label, test_label, predicted_label):\n",
    "    conf_mat = confusion_matrix(test_label, predicted_label)\n",
    "    labels = sorted(set(train_label))\n",
    "\n",
    "    plt.figure()\n",
    "    plt.title(\"Matriz de confusión\")\n",
    "    plt.imshow(conf_mat, interpolation=\"nearest\", cmap=plt.cm.PuBu)\n",
    "    plt.xticks(np.arange(len(labels)), labels, rotation=45)\n",
    "    plt.yticks(np.arange(len(labels)), labels)\n",
    "    plt.xlabel(\"Categoría predecida\")\n",
    "    plt.ylabel(\"Categoría verdadera\")\n",
    "    plt.colorbar()\n",
    "    plt.show()"
   ]
  },
  {
   "cell_type": "code",
   "execution_count": 58,
   "id": "28eb3a6e-3cfb-4a01-b35a-adf8dc0a50f1",
   "metadata": {},
   "outputs": [
    {
     "data": {
      "image/png": "[encoded data removed]",
      "text/plain": [
       "<Figure size 640x480 with 2 Axes>"
      ]
     },
     "metadata": {},
     "output_type": "display_data"
    }
   ],
   "source": [
    "get_confusion_matrix(label_train, label_test, label_predicted)"
   ]
  },
  {
   "cell_type": "code",
   "execution_count": 25,
   "id": "0e1a1274-2242-4548-b803-97857ec4aeff",
   "metadata": {},
   "outputs": [
    {
     "name": "stdout",
     "output_type": "stream",
     "text": [
      "              precision    recall  f1-score   support\n",
      "\n",
      "     biology       1.00      0.50      0.67         2\n",
      "   chemistry       0.67      1.00      0.80         2\n",
      "     fiction       1.00      1.00      1.00         1\n",
      "      horror       0.67      1.00      0.80         2\n",
      "       music       1.00      1.00      1.00         1\n",
      "      poetry       1.00      1.00      1.00         2\n",
      "    politics       1.00      0.50      0.67         2\n",
      "\n",
      "    accuracy                           0.83        12\n",
      "   macro avg       0.90      0.86      0.85        12\n",
      "weighted avg       0.89      0.83      0.82        12\n",
      "\n"
     ]
    }
   ],
   "source": [
    "print(classification_report(label_test, label_predicted, zero_division=0))"
   ]
  },
  {
   "cell_type": "markdown",
   "id": "d2fadf26-9c9d-4e06-b289-dfc39732dac9",
   "metadata": {},
   "source": [
    "% EMPTY"
   ]
  }
 ],
 "metadata": {
  "kernelspec": {
   "display_name": "Python 3 (ipykernel)",
   "language": "python",
   "name": "python3"
  },
  "language_info": {
   "codemirror_mode": {
    "name": "ipython",
    "version": 3
   },
   "file_extension": ".py",
   "mimetype": "text/x-python",
   "name": "python",
   "nbconvert_exporter": "python",
   "pygments_lexer": "ipython3",
   "version": "3.10.8"
  }
 },
 "nbformat": 4,
 "nbformat_minor": 5
}
