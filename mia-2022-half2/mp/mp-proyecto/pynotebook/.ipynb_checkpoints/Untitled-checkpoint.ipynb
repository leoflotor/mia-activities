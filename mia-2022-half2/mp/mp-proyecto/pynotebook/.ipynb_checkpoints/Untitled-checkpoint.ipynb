{
 "cells": [
  {
   "cell_type": "code",
   "execution_count": 1,
   "id": "ea565a6d-4977-4c3d-80d6-b1d7203f342b",
   "metadata": {},
   "outputs": [],
   "source": [
    "import numpy as np\n",
    "import pandas as pd\n",
    "from sklearn.feature_extraction.text import CountVectorizer\n",
    "from sklearn.naive_bayes import MultinomialNB"
   ]
  },
  {
   "cell_type": "markdown",
   "id": "35eb146e-70dc-4242-b817-bed5e0620f62",
   "metadata": {},
   "source": [
    "## Books\n",
    "\n",
    "Id 0\n",
    "\n",
    "- The count of monte cristo\n",
    "- Adventure fiction\n",
    "\n",
    "Id 1\n",
    "\n",
    "- Twenty years after\n",
    "- Historical fiction\n",
    "\n",
    "Id 2\n",
    "\n",
    "- Sense and sensibility\n",
    "- Romance novel"
   ]
  },
  {
   "cell_type": "code",
   "execution_count": 12,
   "id": "c7ade485-10fa-41a3-bdae-f1530464d0dd",
   "metadata": {},
   "outputs": [],
   "source": [
    "books = [0, 1, 2]\n",
    "genres = [0, 1, 2]"
   ]
  },
  {
   "cell_type": "code",
   "execution_count": 2,
   "id": "c2cdf335-c123-4c8f-948b-9c225b79f630",
   "metadata": {},
   "outputs": [],
   "source": [
    "books_path = '../files/'"
   ]
  },
  {
   "cell_type": "code",
   "execution_count": 21,
   "id": "bc6d45ea-313f-46e1-8520-b138b42395f9",
   "metadata": {},
   "outputs": [],
   "source": [
    "with open(books_path + 'the-count-of-monte-cristo.txt', 'r') as file:\n",
    "    book = file.read().replace('\\n', '')\n",
    "\n",
    "book = np.array([book])\n",
    "len(book)"
   ]
  },
  {
   "cell_type": "code",
   "execution_count": 11,
   "id": "d5779cb2-1d37-4c52-aa4e-bd2fe5045ce4",
   "metadata": {},
   "outputs": [],
   "source": [
    "# with open(books_path + 'the-count-of-monte-cristo.txt', 'r') as file:\n",
    "#     book = [line.strip() for line in file.readlines()]\n",
    "    \n",
    "# book = np.array(book)"
   ]
  },
  {
   "cell_type": "code",
   "execution_count": 24,
   "id": "47912d9f-b437-48c6-8d9d-b4ecc6d7f537",
   "metadata": {},
   "outputs": [
    {
     "data": {
      "text/html": [
       "<style>#sk-container-id-3 {color: black;background-color: white;}#sk-container-id-3 pre{padding: 0;}#sk-container-id-3 div.sk-toggleable {background-color: white;}#sk-container-id-3 label.sk-toggleable__label {cursor: pointer;display: block;width: 100%;margin-bottom: 0;padding: 0.3em;box-sizing: border-box;text-align: center;}#sk-container-id-3 label.sk-toggleable__label-arrow:before {content: \"▸\";float: left;margin-right: 0.25em;color: #696969;}#sk-container-id-3 label.sk-toggleable__label-arrow:hover:before {color: black;}#sk-container-id-3 div.sk-estimator:hover label.sk-toggleable__label-arrow:before {color: black;}#sk-container-id-3 div.sk-toggleable__content {max-height: 0;max-width: 0;overflow: hidden;text-align: left;background-color: #f0f8ff;}#sk-container-id-3 div.sk-toggleable__content pre {margin: 0.2em;color: black;border-radius: 0.25em;background-color: #f0f8ff;}#sk-container-id-3 input.sk-toggleable__control:checked~div.sk-toggleable__content {max-height: 200px;max-width: 100%;overflow: auto;}#sk-container-id-3 input.sk-toggleable__control:checked~label.sk-toggleable__label-arrow:before {content: \"▾\";}#sk-container-id-3 div.sk-estimator input.sk-toggleable__control:checked~label.sk-toggleable__label {background-color: #d4ebff;}#sk-container-id-3 div.sk-label input.sk-toggleable__control:checked~label.sk-toggleable__label {background-color: #d4ebff;}#sk-container-id-3 input.sk-hidden--visually {border: 0;clip: rect(1px 1px 1px 1px);clip: rect(1px, 1px, 1px, 1px);height: 1px;margin: -1px;overflow: hidden;padding: 0;position: absolute;width: 1px;}#sk-container-id-3 div.sk-estimator {font-family: monospace;background-color: #f0f8ff;border: 1px dotted black;border-radius: 0.25em;box-sizing: border-box;margin-bottom: 0.5em;}#sk-container-id-3 div.sk-estimator:hover {background-color: #d4ebff;}#sk-container-id-3 div.sk-parallel-item::after {content: \"\";width: 100%;border-bottom: 1px solid gray;flex-grow: 1;}#sk-container-id-3 div.sk-label:hover label.sk-toggleable__label {background-color: #d4ebff;}#sk-container-id-3 div.sk-serial::before {content: \"\";position: absolute;border-left: 1px solid gray;box-sizing: border-box;top: 0;bottom: 0;left: 50%;z-index: 0;}#sk-container-id-3 div.sk-serial {display: flex;flex-direction: column;align-items: center;background-color: white;padding-right: 0.2em;padding-left: 0.2em;position: relative;}#sk-container-id-3 div.sk-item {position: relative;z-index: 1;}#sk-container-id-3 div.sk-parallel {display: flex;align-items: stretch;justify-content: center;background-color: white;position: relative;}#sk-container-id-3 div.sk-item::before, #sk-container-id-3 div.sk-parallel-item::before {content: \"\";position: absolute;border-left: 1px solid gray;box-sizing: border-box;top: 0;bottom: 0;left: 50%;z-index: -1;}#sk-container-id-3 div.sk-parallel-item {display: flex;flex-direction: column;z-index: 1;position: relative;background-color: white;}#sk-container-id-3 div.sk-parallel-item:first-child::after {align-self: flex-end;width: 50%;}#sk-container-id-3 div.sk-parallel-item:last-child::after {align-self: flex-start;width: 50%;}#sk-container-id-3 div.sk-parallel-item:only-child::after {width: 0;}#sk-container-id-3 div.sk-dashed-wrapped {border: 1px dashed gray;margin: 0 0.4em 0.5em 0.4em;box-sizing: border-box;padding-bottom: 0.4em;background-color: white;}#sk-container-id-3 div.sk-label label {font-family: monospace;font-weight: bold;display: inline-block;line-height: 1.2em;}#sk-container-id-3 div.sk-label-container {text-align: center;}#sk-container-id-3 div.sk-container {/* jupyter's `normalize.less` sets `[hidden] { display: none; }` but bootstrap.min.css set `[hidden] { display: none !important; }` so we also need the `!important` here to be able to override the default hidden behavior on the sphinx rendered scikit-learn.org. See: https://github.com/scikit-learn/scikit-learn/issues/21755 */display: inline-block !important;position: relative;}#sk-container-id-3 div.sk-text-repr-fallback {display: none;}</style><div id=\"sk-container-id-3\" class=\"sk-top-container\"><div class=\"sk-text-repr-fallback\"><pre>CountVectorizer(stop_words=&#x27;english&#x27;)</pre><b>In a Jupyter environment, please rerun this cell to show the HTML representation or trust the notebook. <br />On GitHub, the HTML representation is unable to render, please try loading this page with nbviewer.org.</b></div><div class=\"sk-container\" hidden><div class=\"sk-item\"><div class=\"sk-estimator sk-toggleable\"><input class=\"sk-toggleable__control sk-hidden--visually\" id=\"sk-estimator-id-3\" type=\"checkbox\" checked><label for=\"sk-estimator-id-3\" class=\"sk-toggleable__label sk-toggleable__label-arrow\">CountVectorizer</label><div class=\"sk-toggleable__content\"><pre>CountVectorizer(stop_words=&#x27;english&#x27;)</pre></div></div></div></div></div>"
      ],
      "text/plain": [
       "CountVectorizer(stop_words='english')"
      ]
     },
     "execution_count": 24,
     "metadata": {},
     "output_type": "execute_result"
    }
   ],
   "source": [
    "vect = CountVectorizer(stop_words='english')\n",
    "vect"
   ]
  },
  {
   "cell_type": "code",
   "execution_count": 25,
   "id": "c1cd2d3f-e158-47c9-b8ac-b67afa793740",
   "metadata": {},
   "outputs": [
    {
     "data": {
      "text/plain": [
       "<1x34395 sparse matrix of type '<class 'numpy.int64'>'\n",
       "\twith 34395 stored elements in Compressed Sparse Row format>"
      ]
     },
     "execution_count": 25,
     "metadata": {},
     "output_type": "execute_result"
    }
   ],
   "source": [
    "train = vect.fit_transform(book)\n",
    "train"
   ]
  },
  {
   "cell_type": "code",
   "execution_count": 26,
   "id": "279edea2-7bd1-4583-b80d-e01205fcd063",
   "metadata": {},
   "outputs": [
    {
     "data": {
      "text/plain": [
       "array([[211,   1,  17, ...,   1,   1,   1]])"
      ]
     },
     "execution_count": 26,
     "metadata": {},
     "output_type": "execute_result"
    }
   ],
   "source": [
    "train_array = train.toarray()\n",
    "train_array"
   ]
  },
  {
   "cell_type": "code",
   "execution_count": 27,
   "id": "925e4e07-a93d-4914-91d3-01846437af4e",
   "metadata": {},
   "outputs": [
    {
     "data": {
      "text/plain": [
       "'accelerating'"
      ]
     },
     "execution_count": 27,
     "metadata": {},
     "output_type": "execute_result"
    }
   ],
   "source": [
    "features = vect.get_feature_names_out()\n",
    "features[1012]"
   ]
  },
  {
   "cell_type": "code",
   "execution_count": 28,
   "id": "b35616c0-1dd2-4a8e-9e33-80e313892108",
   "metadata": {},
   "outputs": [
    {
     "data": {
      "text/html": [
       "<div>\n",
       "<style scoped>\n",
       "    .dataframe tbody tr th:only-of-type {\n",
       "        vertical-align: middle;\n",
       "    }\n",
       "\n",
       "    .dataframe tbody tr th {\n",
       "        vertical-align: top;\n",
       "    }\n",
       "\n",
       "    .dataframe thead th {\n",
       "        text-align: right;\n",
       "    }\n",
       "</style>\n",
       "<table border=\"1\" class=\"dataframe\">\n",
       "  <thead>\n",
       "    <tr style=\"text-align: right;\">\n",
       "      <th></th>\n",
       "      <th>000</th>\n",
       "      <th>0009m</th>\n",
       "      <th>000francs</th>\n",
       "      <th>000livres</th>\n",
       "      <th>0011m</th>\n",
       "      <th>0019m</th>\n",
       "      <th>0023m</th>\n",
       "      <th>0025m</th>\n",
       "      <th>0027m</th>\n",
       "      <th>0029m</th>\n",
       "      <th>...</th>\n",
       "      <th>καὶ</th>\n",
       "      <th>μὲν</th>\n",
       "      <th>μήζε</th>\n",
       "      <th>πατρὸς</th>\n",
       "      <th>προδοσίανεἰπὲ</th>\n",
       "      <th>προδότου</th>\n",
       "      <th>τὸ</th>\n",
       "      <th>ἄτην</th>\n",
       "      <th>ἡμῖν</th>\n",
       "      <th>ὄνομα</th>\n",
       "    </tr>\n",
       "  </thead>\n",
       "  <tbody>\n",
       "    <tr>\n",
       "      <th>0</th>\n",
       "      <td>211</td>\n",
       "      <td>1</td>\n",
       "      <td>17</td>\n",
       "      <td>2</td>\n",
       "      <td>1</td>\n",
       "      <td>1</td>\n",
       "      <td>1</td>\n",
       "      <td>1</td>\n",
       "      <td>1</td>\n",
       "      <td>1</td>\n",
       "      <td>...</td>\n",
       "      <td>1</td>\n",
       "      <td>1</td>\n",
       "      <td>1</td>\n",
       "      <td>1</td>\n",
       "      <td>1</td>\n",
       "      <td>1</td>\n",
       "      <td>1</td>\n",
       "      <td>1</td>\n",
       "      <td>1</td>\n",
       "      <td>1</td>\n",
       "    </tr>\n",
       "  </tbody>\n",
       "</table>\n",
       "<p>1 rows × 34395 columns</p>\n",
       "</div>"
      ],
      "text/plain": [
       "   000  0009m  000francs  000livres  0011m  0019m  0023m  0025m  0027m  0029m  \\\n",
       "0  211      1         17          2      1      1      1      1      1      1   \n",
       "\n",
       "   ...  καὶ  μὲν  μήζε  πατρὸς  προδοσίανεἰπὲ  προδότου  τὸ  ἄτην  ἡμῖν  ὄνομα  \n",
       "0  ...    1    1     1       1              1         1   1     1     1      1  \n",
       "\n",
       "[1 rows x 34395 columns]"
      ]
     },
     "execution_count": 28,
     "metadata": {},
     "output_type": "execute_result"
    }
   ],
   "source": [
    "pd.DataFrame(train_array, columns=features)"
   ]
  },
  {
   "cell_type": "code",
   "execution_count": null,
   "id": "1a905ce4-7cc4-4d8c-ac79-b33f79b5964e",
   "metadata": {},
   "outputs": [],
   "source": []
  }
 ],
 "metadata": {
  "kernelspec": {
   "display_name": "Python 3 (ipykernel)",
   "language": "python",
   "name": "python3"
  },
  "language_info": {
   "codemirror_mode": {
    "name": "ipython",
    "version": 3
   },
   "file_extension": ".py",
   "mimetype": "text/x-python",
   "name": "python",
   "nbconvert_exporter": "python",
   "pygments_lexer": "ipython3",
   "version": "3.10.8"
  }
 },
 "nbformat": 4,
 "nbformat_minor": 5
}
